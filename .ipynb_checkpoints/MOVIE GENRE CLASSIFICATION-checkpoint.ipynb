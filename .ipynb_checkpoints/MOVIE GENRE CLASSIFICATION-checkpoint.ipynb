{
 "cells": [
  {
   "cell_type": "code",
   "execution_count": 1,
   "id": "d9c1d0c0",
   "metadata": {},
   "outputs": [
    {
     "ename": "SyntaxError",
     "evalue": "invalid syntax (1237361084.py, line 12)",
     "output_type": "error",
     "traceback": [
      "\u001b[1;36m  Cell \u001b[1;32mIn[1], line 12\u001b[1;36m\u001b[0m\n\u001b[1;33m    def load_data(train_data.txt):\u001b[0m\n\u001b[1;37m                            ^\u001b[0m\n\u001b[1;31mSyntaxError\u001b[0m\u001b[1;31m:\u001b[0m invalid syntax\n"
     ]
    }
   ],
   "source": [
    "import pandas as pd\n",
    "import numpy as np\n",
    "from sklearn.model_selection import train_test_split\n",
    "from sklearn.feature_extraction.text import TfidfVectorizer\n",
    "from sklearn.naive_bayes import MultinomialNB\n",
    "from sklearn.linear_model import LogisticRegression\n",
    "from sklearn.svm import SVC\n",
    "from sklearn.metrics import accuracy_score, classification_report\n",
    "import joblib\n",
    "\n",
    "# Load dataset\n",
    "def load_data(train_data.txt):\n",
    "    df = pd.read_csv(train_data.txt, sep=' ::: ', header=None, engine='python')\n",
    "    df.columns = ['ID', 'Title', 'Genre', 'Description']\n",
    "    return df\n",
    "\n",
    "# Preprocess data\n",
    "def preprocess_data(df):\n",
    "    X = df['Description']\n",
    "    y = df['Genre']\n",
    "    return train_test_split(X, y, test_size=0.2, random_state=42)\n",
    "\n",
    "# Train model\n",
    "def train_model(X_train, y_train, model_type='naive_bayes'):\n",
    "    vectorizer = TfidfVectorizer()\n",
    "    X_train_tfidf = vectorizer.fit_transform(X_train)\n",
    "    \n",
    "    if model_type == 'naive_bayes':\n",
    "        model = MultinomialNB()\n",
    "    elif model_type == 'logistic_regression':\n",
    "        model = LogisticRegression(max_iter=500)\n",
    "    elif model_type == 'svm':\n",
    "        model = SVC(kernel='linear', probability=True)\n",
    "    else:\n",
    "        raise ValueError(\"Invalid model type. Choose 'naive_bayes', 'logistic_regression', or 'svm'.\")\n",
    "    \n",
    "    model.fit(X_train_tfidf, y_train)\n",
    "    return vectorizer, model\n",
    "\n",
    "# Evaluate model\n",
    "def evaluate_model(vectorizer, model, X_test, y_test):\n",
    "    X_test_tfidf = vectorizer.transform(X_test)\n",
    "    y_pred = model.predict(X_test_tfidf)\n",
    "    print(\"Accuracy:\", accuracy_score(y_test, y_pred))\n",
    "    print(classification_report(y_test, y_pred))\n",
    "\n",
    "# Predict new genres from test data\n",
    "def predict_from_file(file_path, vectorizer, model):\n",
    "    test_data = load_data(file_path)\n",
    "    X_test = test_data['Description']\n",
    "    test_tfidf = vectorizer.transform(X_test)\n",
    "    predictions = model.predict(test_tfidf)\n",
    "    test_data['Predicted_Genre'] = predictions\n",
    "    test_data.to_csv('test_data_with_predictions.csv', index=False)\n",
    "    print(\"Predictions saved to test_data_with_predictions.csv\")\n",
    "\n",
    "if __name__ == \"__main__\":\n",
    "    # Load and preprocess data\n",
    "    data = load_data('train_data.txt')\n",
    "    X_train, X_test, y_train, y_test = preprocess_data(data)\n",
    "    \n",
    "    # Train and evaluate the model\n",
    "    vectorizer, model = train_model(X_train, y_train, model_type='naive_bayes')\n",
    "    evaluate_model(vectorizer, model, X_test, y_test)\n",
    "    \n",
    "    # Save the trained model\n",
    "    joblib.dump(vectorizer, 'tfidf_vectorizer.pkl')\n",
    "    joblib.dump(model, 'genre_classifier.pkl')\n",
    "    \n",
    "    # Predict genres for test data\n",
    "    predict_from_file('test_data.txt', vectorizer, model)\n"
   ]
  },
  {
   "cell_type": "code",
   "execution_count": null,
   "id": "34cc046f",
   "metadata": {},
   "outputs": [],
   "source": []
  }
 ],
 "metadata": {
  "kernelspec": {
   "display_name": "Python 3 (ipykernel)",
   "language": "python",
   "name": "python3"
  },
  "language_info": {
   "codemirror_mode": {
    "name": "ipython",
    "version": 3
   },
   "file_extension": ".py",
   "mimetype": "text/x-python",
   "name": "python",
   "nbconvert_exporter": "python",
   "pygments_lexer": "ipython3",
   "version": "3.10.9"
  }
 },
 "nbformat": 4,
 "nbformat_minor": 5
}
