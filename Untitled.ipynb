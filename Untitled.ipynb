{
 "cells": [
  {
   "cell_type": "code",
   "execution_count": 1,
   "id": "c4fbffc3",
   "metadata": {},
   "outputs": [
    {
     "name": "stdout",
     "output_type": "stream",
     "text": [
      "Accuracy: 0.4457253527621507\n"
     ]
    },
    {
     "name": "stderr",
     "output_type": "stream",
     "text": [
      "C:\\Users\\Uma Mishra\\anaconda3\\lib\\site-packages\\sklearn\\metrics\\_classification.py:1344: UndefinedMetricWarning: Precision and F-score are ill-defined and being set to 0.0 in labels with no predicted samples. Use `zero_division` parameter to control this behavior.\n",
      "  _warn_prf(average, modifier, msg_start, len(result))\n",
      "C:\\Users\\Uma Mishra\\anaconda3\\lib\\site-packages\\sklearn\\metrics\\_classification.py:1344: UndefinedMetricWarning: Precision and F-score are ill-defined and being set to 0.0 in labels with no predicted samples. Use `zero_division` parameter to control this behavior.\n",
      "  _warn_prf(average, modifier, msg_start, len(result))\n"
     ]
    },
    {
     "name": "stdout",
     "output_type": "stream",
     "text": [
      "              precision    recall  f1-score   support\n",
      "\n",
      "      action       0.00      0.00      0.00       263\n",
      "       adult       0.00      0.00      0.00       112\n",
      "   adventure       0.00      0.00      0.00       139\n",
      "   animation       0.00      0.00      0.00       104\n",
      "   biography       0.00      0.00      0.00        61\n",
      "      comedy       0.66      0.03      0.06      1443\n",
      "       crime       0.00      0.00      0.00       107\n",
      " documentary       0.54      0.90      0.67      2659\n",
      "       drama       0.38      0.89      0.53      2697\n",
      "      family       0.00      0.00      0.00       150\n",
      "     fantasy       0.00      0.00      0.00        74\n",
      "   game-show       0.00      0.00      0.00        40\n",
      "     history       0.00      0.00      0.00        45\n",
      "      horror       0.00      0.00      0.00       431\n",
      "       music       0.00      0.00      0.00       144\n",
      "     musical       0.00      0.00      0.00        50\n",
      "     mystery       0.00      0.00      0.00        56\n",
      "        news       0.00      0.00      0.00        34\n",
      "  reality-tv       0.00      0.00      0.00       192\n",
      "     romance       0.00      0.00      0.00       151\n",
      "      sci-fi       0.00      0.00      0.00       143\n",
      "       short       0.00      0.00      0.00      1045\n",
      "       sport       0.00      0.00      0.00        93\n",
      "   talk-show       0.00      0.00      0.00        81\n",
      "    thriller       0.00      0.00      0.00       309\n",
      "         war       0.00      0.00      0.00        20\n",
      "     western       0.00      0.00      0.00       200\n",
      "\n",
      "    accuracy                           0.45     10843\n",
      "   macro avg       0.06      0.07      0.05     10843\n",
      "weighted avg       0.31      0.45      0.31     10843\n",
      "\n",
      "Predicted Genre: documentary\n"
     ]
    },
    {
     "name": "stderr",
     "output_type": "stream",
     "text": [
      "C:\\Users\\Uma Mishra\\anaconda3\\lib\\site-packages\\sklearn\\metrics\\_classification.py:1344: UndefinedMetricWarning: Precision and F-score are ill-defined and being set to 0.0 in labels with no predicted samples. Use `zero_division` parameter to control this behavior.\n",
      "  _warn_prf(average, modifier, msg_start, len(result))\n"
     ]
    }
   ],
   "source": [
    "# ... existing imports ...\n",
    "import pandas as pd\n",
    "from sklearn.model_selection import train_test_split\n",
    "from sklearn.feature_extraction.text import TfidfVectorizer\n",
    "from sklearn.naive_bayes import MultinomialNB\n",
    "from sklearn.metrics import classification_report, accuracy_score\n",
    "\n",
    "# Load the data\n",
    "train_data = pd.read_csv('train_data.txt', sep=' ::: ', header=None, engine='python')\n",
    "train_data.columns = ['ID', 'Title', 'Genre', 'Description']\n",
    "\n",
    "# Preprocess the data\n",
    "X = train_data['Description']\n",
    "y = train_data['Genre']\n",
    "\n",
    "# Split the data into training and testing sets\n",
    "X_train, X_test, y_train, y_test = train_test_split(X, y, test_size=0.2, random_state=42)\n",
    "\n",
    "# Feature extraction using TF-IDF\n",
    "vectorizer = TfidfVectorizer()\n",
    "X_train_tfidf = vectorizer.fit_transform(X_train)\n",
    "X_test_tfidf = vectorizer.transform(X_test)\n",
    "\n",
    "# Train the model\n",
    "model = MultinomialNB()\n",
    "model.fit(X_train_tfidf, y_train)\n",
    "\n",
    "# Evaluate the model\n",
    "y_pred = model.predict(X_test_tfidf)\n",
    "print(\"Accuracy:\", accuracy_score(y_test, y_pred))\n",
    "print(classification_report(y_test, y_pred))\n",
    "\n",
    "# Function to predict genre for new descriptions\n",
    "def predict_genre(description):\n",
    "    description_tfidf = vectorizer.transform([description])\n",
    "    return model.predict(description_tfidf)\n",
    "\n",
    "# Example usage\n",
    "new_description = \"A thrilling adventure of a young hero.\"\n",
    "predicted_genre = predict_genre(new_description)\n",
    "print(\"Predicted Genre:\", predicted_genre[0])"
   ]
  },
  {
   "cell_type": "code",
   "execution_count": null,
   "id": "7cc4fd55",
   "metadata": {},
   "outputs": [],
   "source": []
  }
 ],
 "metadata": {
  "kernelspec": {
   "display_name": "Python 3 (ipykernel)",
   "language": "python",
   "name": "python3"
  },
  "language_info": {
   "codemirror_mode": {
    "name": "ipython",
    "version": 3
   },
   "file_extension": ".py",
   "mimetype": "text/x-python",
   "name": "python",
   "nbconvert_exporter": "python",
   "pygments_lexer": "ipython3",
   "version": "3.10.9"
  }
 },
 "nbformat": 4,
 "nbformat_minor": 5
}
