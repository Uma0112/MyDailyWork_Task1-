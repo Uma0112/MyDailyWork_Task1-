{
 "cells": [
  {
   "cell_type": "code",
   "execution_count": 1,
   "id": "d9c1d0c0",
   "metadata": {},
   "outputs": [],
   "source": [
    "import pandas as pd\n",
    "import numpy as np\n",
    "from sklearn.model_selection import train_test_split\n",
    "from sklearn.feature_extraction.text import TfidfVectorizer\n",
    "from sklearn.naive_bayes import MultinomialNB\n",
    "from sklearn.linear_model import LogisticRegression\n",
    "from sklearn.svm import SVC\n",
    "from sklearn.metrics import accuracy_score, classification_report\n",
    "import joblib"
   ]
  },
  {
   "cell_type": "code",
   "execution_count": 2,
   "id": "34cc046f",
   "metadata": {},
   "outputs": [],
   "source": [
    "# Load dataset\n",
    "def load_data(filepath):\n",
    "    df = pd.read_csv(\"train_data.txt\", sep=' ::: ', header=None, engine='python')\n",
    "    df.columns = ['ID', 'Title', 'Genre', 'Description']\n",
    "    return df"
   ]
  },
  {
   "cell_type": "code",
   "execution_count": 4,
   "id": "aaa84a88",
   "metadata": {},
   "outputs": [],
   "source": [
    "# Preprocess data with stratified sampling\n",
    "def preprocess_data(df):\n",
    "    X = df['Description']\n",
    "    y = df['Genre']\n",
    "    return train_test_split(X, y, test_size=0.2, stratify=y, random_state=42)\n"
   ]
  },
  {
   "cell_type": "code",
   "execution_count": 5,
   "id": "1bd17f76",
   "metadata": {},
   "outputs": [],
   "source": [
    "# Train model\n",
    "def train_model(X_train, y_train, model_type='naive_bayes'):\n",
    "    vectorizer = TfidfVectorizer()\n",
    "    X_train_tfidf = vectorizer.fit_transform(X_train)\n",
    "    \n",
    "    if model_type == 'naive_bayes':\n",
    "        model = MultinomialNB()\n",
    "    elif model_type == 'logistic_regression':\n",
    "        model = LogisticRegression(max_iter=500)\n",
    "    elif model_type == 'svm':\n",
    "        model = SVC(kernel='linear', probability=True)\n",
    "    else:\n",
    "        raise ValueError(\"Invalid model type. Choose 'naive_bayes', 'logistic_regression', or 'svm'.\")\n",
    "    \n",
    "    model.fit(X_train_tfidf, y_train)\n",
    "    return vectorizer, model\n",
    "\n"
   ]
  },
  {
   "cell_type": "code",
   "execution_count": 6,
   "id": "0a2654c7",
   "metadata": {},
   "outputs": [],
   "source": [
    "# Evaluate model\n",
    "def evaluate_model(vectorizer, model, X_test, y_test):\n",
    "    X_test_tfidf = vectorizer.transform(X_test)\n",
    "    y_pred = model.predict(X_test_tfidf)\n",
    "    print(\"Model Evaluation:\")\n",
    "    print(\"Accuracy:\", accuracy_score(y_test, y_pred))\n",
    "    print(\"Classification Report:\\n\",classification_report(y_test, y_pred))\n",
    "    \n"
   ]
  },
  {
   "cell_type": "code",
   "execution_count": 8,
   "id": "9fd4f969",
   "metadata": {},
   "outputs": [
    {
     "name": "stdout",
     "output_type": "stream",
     "text": [
      "Model Evaluation:\n",
      "Accuracy: 0.4453564511666513\n"
     ]
    },
    {
     "name": "stderr",
     "output_type": "stream",
     "text": [
      "C:\\Users\\Uma Mishra\\anaconda3\\lib\\site-packages\\sklearn\\metrics\\_classification.py:1565: UndefinedMetricWarning: Precision is ill-defined and being set to 0.0 in labels with no predicted samples. Use `zero_division` parameter to control this behavior.\n",
      "  _warn_prf(average, modifier, f\"{metric.capitalize()} is\", len(result))\n",
      "C:\\Users\\Uma Mishra\\anaconda3\\lib\\site-packages\\sklearn\\metrics\\_classification.py:1565: UndefinedMetricWarning: Precision is ill-defined and being set to 0.0 in labels with no predicted samples. Use `zero_division` parameter to control this behavior.\n",
      "  _warn_prf(average, modifier, f\"{metric.capitalize()} is\", len(result))\n",
      "C:\\Users\\Uma Mishra\\anaconda3\\lib\\site-packages\\sklearn\\metrics\\_classification.py:1565: UndefinedMetricWarning: Precision is ill-defined and being set to 0.0 in labels with no predicted samples. Use `zero_division` parameter to control this behavior.\n",
      "  _warn_prf(average, modifier, f\"{metric.capitalize()} is\", len(result))\n"
     ]
    },
    {
     "name": "stdout",
     "output_type": "stream",
     "text": [
      "Classification Report:\n",
      "               precision    recall  f1-score   support\n",
      "\n",
      "      action       0.00      0.00      0.00       263\n",
      "       adult       0.00      0.00      0.00       118\n",
      "   adventure       0.00      0.00      0.00       155\n",
      "   animation       0.00      0.00      0.00       100\n",
      "   biography       0.00      0.00      0.00        53\n",
      "      comedy       0.72      0.03      0.05      1490\n",
      "       crime       0.00      0.00      0.00       101\n",
      " documentary       0.53      0.91      0.67      2619\n",
      "       drama       0.38      0.89      0.53      2723\n",
      "      family       0.00      0.00      0.00       157\n",
      "     fantasy       0.00      0.00      0.00        65\n",
      "   game-show       0.00      0.00      0.00        39\n",
      "     history       0.00      0.00      0.00        49\n",
      "      horror       0.00      0.00      0.00       441\n",
      "       music       0.00      0.00      0.00       146\n",
      "     musical       0.00      0.00      0.00        55\n",
      "     mystery       0.00      0.00      0.00        64\n",
      "        news       0.00      0.00      0.00        36\n",
      "  reality-tv       0.00      0.00      0.00       177\n",
      "     romance       0.00      0.00      0.00       134\n",
      "      sci-fi       0.00      0.00      0.00       129\n",
      "       short       1.00      0.00      0.00      1015\n",
      "       sport       0.00      0.00      0.00        86\n",
      "   talk-show       0.00      0.00      0.00        78\n",
      "    thriller       0.00      0.00      0.00       318\n",
      "         war       0.00      0.00      0.00        26\n",
      "     western       0.00      0.00      0.00       206\n",
      "\n",
      "    accuracy                           0.45     10843\n",
      "   macro avg       0.10      0.07      0.05     10843\n",
      "weighted avg       0.42      0.45      0.30     10843\n",
      "\n",
      "Predictions saved to test_data_with_predictions.csv\n"
     ]
    }
   ],
   "source": [
    "# Predict new genres from test data\n",
    "def predict_from_file(file_path, vectorizer, model):\n",
    "    test_data = load_data(file_path)\n",
    "    X_test = test_data['Description']\n",
    "    test_tfidf = vectorizer.transform(X_test)\n",
    "    predictions = model.predict(test_tfidf)\n",
    "    test_data['Predicted_Genre'] = predictions\n",
    "    test_data.to_csv('test_data_with_predictions.csv', index=False)\n",
    "    print(\"Predictions saved to test_data_with_predictions.csv\")\n",
    "\n",
    "if __name__ == \"__main__\":\n",
    "    # Load and preprocess data\n",
    "    data = load_data('train_data.txt')\n",
    "    X_train, X_test, y_train, y_test = preprocess_data(data)\n",
    "    \n",
    "    # Train and evaluate the model\n",
    "    vectorizer, model = train_model(X_train, y_train, model_type='naive_bayes')\n",
    "    evaluate_model(vectorizer, model, X_test, y_test)\n",
    "    \n",
    "    # Save the trained model\n",
    "    joblib.dump(vectorizer, 'tfidf_vectorizer.pkl')\n",
    "    joblib.dump(model, 'genre_classifier.pkl')\n",
    "    \n",
    "    # Predict genres for test data\n",
    "    predict_from_file('test_data.txt', vectorizer, model)\n"
   ]
  },
  {
   "cell_type": "code",
   "execution_count": null,
   "id": "d5870c72",
   "metadata": {},
   "outputs": [],
   "source": []
  },
  {
   "cell_type": "code",
   "execution_count": null,
   "id": "3c3ecf86",
   "metadata": {},
   "outputs": [],
   "source": []
  },
  {
   "cell_type": "code",
   "execution_count": null,
   "id": "ea20a902",
   "metadata": {},
   "outputs": [],
   "source": []
  }
 ],
 "metadata": {
  "kernelspec": {
   "display_name": "Python 3 (ipykernel)",
   "language": "python",
   "name": "python3"
  },
  "language_info": {
   "codemirror_mode": {
    "name": "ipython",
    "version": 3
   },
   "file_extension": ".py",
   "mimetype": "text/x-python",
   "name": "python",
   "nbconvert_exporter": "python",
   "pygments_lexer": "ipython3",
   "version": "3.10.9"
  }
 },
 "nbformat": 4,
 "nbformat_minor": 5
}
